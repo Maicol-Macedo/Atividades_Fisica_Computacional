{
 "cells": [
  {
   "cell_type": "code",
   "execution_count": 1,
   "metadata": {},
   "outputs": [],
   "source": [
    "import numpy as np\n",
    "\n",
    "def pi_monte_carlo(N):\n",
    "    '''\n",
    "    Estima o valor de π usando o método de Monte Carlo.\n",
    "\n",
    "    Parâmetros:\n",
    "    N (int): número de pontos aleatórios a serem gerados.\n",
    "\n",
    "    Retorna:\n",
    "    float: estimativa do valor de π.\n",
    "    '''\n",
    "    # Inicializar o gerador de números aleatórios\n",
    "    rng = np.random.default_rng()\n",
    "\n",
    "    dentro_do_circulo = 0\n",
    "\n",
    "    for _ in range(N):\n",
    "        # Gerar pontos aleatórios dentro do quadrado [-1, 1] x [-1, 1]\n",
    "        x = rng.uniform(-1, 1)\n",
    "        y = rng.uniform(-1, 1)\n",
    "\n",
    "        # Verificar se o ponto está dentro do círculo\n",
    "        if x**2 + y**2 <= 1:\n",
    "            dentro_do_circulo += 1\n",
    "\n",
    "    # Estimativa de π\n",
    "    estimativa_pi = 4 * dentro_do_circulo / N\n",
    "    return estimativa_pi"
   ]
  },
  {
   "cell_type": "code",
   "execution_count": null,
   "metadata": {},
   "outputs": [],
   "source": [
    "# pi = 3.14159265359\n",
    "\n",
    "N = 1000\n",
    "estimativa = pi_monte_carlo(N)\n",
    "print(f'Estimativa de π com {N} pontos: {estimativa}')\n"
   ]
  }
 ],
 "metadata": {
  "kernelspec": {
   "display_name": "Python 3",
   "language": "python",
   "name": "python3"
  },
  "language_info": {
   "codemirror_mode": {
    "name": "ipython",
    "version": 3
   },
   "file_extension": ".py",
   "mimetype": "text/x-python",
   "name": "python",
   "nbconvert_exporter": "python",
   "pygments_lexer": "ipython3",
   "version": "3.13.2"
  }
 },
 "nbformat": 4,
 "nbformat_minor": 2
}
