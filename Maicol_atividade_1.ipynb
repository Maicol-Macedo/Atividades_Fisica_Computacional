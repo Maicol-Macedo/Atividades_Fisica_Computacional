{
  "cells": [
    {
      "cell_type": "markdown",
      "metadata": {
        "id": "8Dwbwc-vCJ-a"
      },
      "source": [
        "# Atividades mínimas\n",
        "\n",
        "\n",
        "Os objetivos destas atividades é calcular o fatorial, a sequência de Fibonacci, as raízes de uma equação quadrática utilizando a fórmula de Bhaskara, e determinar se um número é divisível por outro, tudo isso utilizando apenas lógica, ou seja, sem o uso de funções que realizem esses processos diretamente."
      ]
    },
    {
      "cell_type": "markdown",
      "metadata": {
        "id": "W-_7ANGvDGLI"
      },
      "source": [
        "## Fatorial\n",
        "\n",
        "O fatorial de um número natural $n$ é dado pela equação:\n",
        "\n",
        "$$\n",
        "n! = n \\times (n-1) \\times (n-2) \\times \\dots \\times 1\n",
        "$$\n",
        "\n",
        "Ou seja, o fatorial de $n$ é o produto de todos os números inteiros de $n$ até $1$.\n",
        "\n",
        "É importante observar que existe uma exceção para o fatorial de zero, que é definido como:\n",
        "\n",
        "$$\n",
        "0! = 1\n",
        "$$\n",
        "\n",
        "Por exemplo o fatorial de $ 5 $ é dado por:\n",
        "\n",
        "$$\n",
        "3! = 3 \\times 2 \\times 1 = 6\n",
        "$$"
      ]
    },
    {
      "cell_type": "code",
      "execution_count": null,
      "metadata": {
        "colab": {
          "base_uri": "https://localhost:8080/"
        },
        "id": "WvhGRjV7GynO",
        "outputId": "1477270c-4efb-48cd-db1b-9ec902116e85"
      },
      "outputs": [],
      "source": [
        "def fatorial(n):\n",
        "    '''\n",
        "    Calcula o fatorial de um número inteiro não negativo.\n",
        "\n",
        "    O fatorial de um número inteiro n (denotado como n!) é o produto de todos os inteiros de 1 até n.\n",
        "    O fatorial de 0 é definido como 1 (0! = 1).\n",
        "\n",
        "    Argumentos\n",
        "    ----------\n",
        "    n (int): Um número inteiro não negativo (n >= 0) para o qual o fatorial será calculado.\n",
        "\n",
        "    Retorna\n",
        "    -------\n",
        "    int: O fatorial de n. Caso n seja 0 ou 1, retorna 1, pois o fatorial de 0 e 1 são definidos como 1.\n",
        "    '''\n",
        "\n",
        "    # Inicializa a variável fat com 1, pois o fatorial de 0 é 1 (menor fatorial possivel).\n",
        "    fat = 1\n",
        "\n",
        "    # A cada iteração do laço, multiplicamos o valor atual de fat por i,\n",
        "    # abrangendo os números de 1 até n para calcular o fatorial\n",
        "    for i in range(1, n + 1):\n",
        "        fat *= i\n",
        "    return fat\n",
        "\n",
        "#Exemplos\n",
        "print(f'O fatorial de 3 é {fatorial(3)}')\n",
        "print('O fatorial de 1 é', fatorial(1))\n",
        "f10 = fatorial(10)\n",
        "print(f'O fatorial de 10 é {f10}')\n",
        "f0 = fatorial(0)\n",
        "print('O fatorial de 0 é', f0)"
      ]
    },
    {
      "cell_type": "markdown",
      "metadata": {
        "id": "KNTDJiHQEfja"
      },
      "source": [
        "## Sequência de Fibonacci\n",
        "\n",
        "\n",
        "A sequência de Fibonacci é definida pela seguinte equação recursiva:\n",
        "\n",
        "$$\n",
        "F(n) = F(n-1) + F(n-2)\n",
        "$$\n",
        "\n",
        "com as condições iniciais:\n",
        "\n",
        "$$\n",
        "F(0) = 0, \\quad F(1) = 1\n",
        "$$\n",
        "\n",
        "Ou seja, cada número da sequência é obtido pela soma dos dois números anteriores. A sequência começa com os seguintes valores:\n",
        "\n",
        "$$\n",
        "0, 1, 1, 2, 3, 5, 8, 13, \\dots\n",
        "$$"
      ]
    },
    {
      "cell_type": "code",
      "execution_count": null,
      "metadata": {
        "colab": {
          "base_uri": "https://localhost:8080/"
        },
        "id": "zE5q7uAW8GbQ",
        "outputId": "4c47528b-6558-4270-94fd-9f53f6a02761"
      },
      "outputs": [],
      "source": [
        "def fibonacci(n):\n",
        "    '''\n",
        "    Gera os n primeiros números da sequência de Fibonacci.\n",
        "\n",
        "    A sequência de Fibonacci é uma sequência numérica em que cada número é a soma dos dois anteriores,\n",
        "    começando por 0 e 1.\n",
        "\n",
        "    Argumentos\n",
        "    ----------\n",
        "    n (int): Número de termos da sequência de Fibonacci a serem gerados. Deve ser um número inteiro não negativo.\n",
        "             Se n for 0, a função retorna uma lista vazia.\n",
        "\n",
        "    Retorna\n",
        "    -------\n",
        "    list: Uma lista contendo os n primeiros números da sequência de Fibonacci.\n",
        "\n",
        "    '''\n",
        "\n",
        "    # Inicializa a lista com os dois primeiros números da sequência de Fibonacci\n",
        "    list_fib = [0,1]\n",
        "\n",
        "    # Caso n seja 0 ou 1, retorna diretamente a lista inicial com os primeiros termos.\n",
        "    if n == 0:\n",
        "        return []\n",
        "    elif n == 1:\n",
        "        return [1]\n",
        "\n",
        "    # Loop para gerar os números subsequentes da sequência até o número n\n",
        "    for i in range(2, n):  # Inicia a partir de 2, pois os dois primeiros já estão na lista\n",
        "        list_fib.append(list_fib[i-1] + list_fib[i-2])  # Adiciona o próximo número da sequência\n",
        "\n",
        "    # Retorna a lista com os números da sequência de Fibonacci\n",
        "    return list_fib\n",
        "\n",
        "#Exemplos\n",
        "print('Sequência dos 5 primeiros números de Fibonacci:', fibonacci(5))\n",
        "f = fibonacci(20)\n",
        "print('Sequência dos 20 primeiros números de Fibonacci:', f)\n",
        "numero = 30\n",
        "f = fibonacci(numero)\n",
        "print(f'Sequência dos {numero} primeiros números de Fibonacci: {f}')"
      ]
    },
    {
      "cell_type": "markdown",
      "metadata": {
        "id": "HHrj1BxUFWKh"
      },
      "source": [
        "## Fórmula de Bhaskara\n",
        "\n",
        "A fórmula de Bhaskara é utilizada para resolver equações quadráticas da forma $ ax^2 + bx + c = 0 $. As raízes da equação são dadas pela expressão:\n",
        "\n",
        "$$\n",
        "x = \\frac{-b \\pm \\sqrt{b^2 - 4ac}}{2a}\n",
        "$$\n",
        "\n",
        "Onde:\n",
        "- $ a $, $ b $, e $ c $ são os coeficientes da equação quadrática.\n",
        "- O discriminante ($ \\Delta $) é dado por $ \\Delta = b^2 - 4ac $.\n",
        "\n",
        "Como exemplo, considere a equação quadrática:\n",
        "\n",
        "$$\n",
        "2x^2 + 12x - 14 = 0\n",
        "$$\n",
        "\n",
        "Os coeficientes são:\n",
        "- $ a = 2 $\n",
        "- $ b = 12 $\n",
        "- $ c = -14 $\n",
        "\n",
        "Aplicando a fórmula de Bhaskara, obtemos as raízes da equação. As soluções são:\n",
        "\n",
        "\n",
        "$$\n",
        "x_1 =\\frac{-12 + 16}{4} = 1 \\quad\n",
        "= \\frac{-12 - 16}{4} = -7\n",
        "$$\n"
      ]
    },
    {
      "cell_type": "code",
      "execution_count": null,
      "metadata": {
        "colab": {
          "base_uri": "https://localhost:8080/"
        },
        "id": "H61yQ7u7Mdxz",
        "outputId": "73ddc429-d6ba-42f8-93ed-d50115568587"
      },
      "outputs": [],
      "source": [
        "def bhaskara(a, b, c):\n",
        "    '''\n",
        "    Calcula as raízes de uma equação quadrática do tipo ax² + bx + c = 0.\n",
        "\n",
        "    Argumentos:\n",
        "    a (float): Coeficiente da variável x².\n",
        "    b (float): Coeficiente da variável x.\n",
        "    c (float): Termo constante.\n",
        "\n",
        "    Retorna:\n",
        "    tuple: Uma tupla com as duas raízes reais (x1, x2). Se as raízes forem complexas,retorna (None, None).\n",
        "    '''\n",
        "\n",
        "    # Calculo do delta\n",
        "    delta = b**2 - 4*a*c\n",
        "\n",
        "    # Se delta for negativo, não existem raízes reais, portanto retorna None para ambas\n",
        "    if delta < 0:\n",
        "        return (None, None)\n",
        "\n",
        "    # Calcula a primeira raiz usando a fórmula de Bhaskara\n",
        "    x1 = (-b + (delta**0.5)) / (2*a)\n",
        "\n",
        "    # Calcula a segunda raiz usando a fórmula de Bhaskara\n",
        "    x2 = (-b - (delta**0.5)) / (2*a)\n",
        "\n",
        "    # Transformandos as raizes em tupla\n",
        "    x = (x1, x2)\n",
        "\n",
        "    # Retorna as duas raízes reais\n",
        "    return x\n",
        "\n",
        "#Exemplo\n",
        "x1, x2 = bhaskara(2, 12, -14)\n",
        "print('A primeira raiz é:', x1)\n",
        "print('A segunda raiz é:', x2)"
      ]
    },
    {
      "cell_type": "markdown",
      "metadata": {
        "id": "jjy20bNxzt9Z"
      },
      "source": [
        "## Divisores\n",
        "\n",
        "Para verificar se um número é divisível por outro, utilizamos a operação de módulo (%), que retorna o resto da divisão. Se o número for divisível, o resultado será $0$."
      ]
    },
    {
      "cell_type": "code",
      "execution_count": null,
      "metadata": {
        "colab": {
          "base_uri": "https://localhost:8080/"
        },
        "id": "BGA0ltpLzwLz",
        "outputId": "8f419e54-52bb-44da-d388-533fae845add"
      },
      "outputs": [],
      "source": [
        "def divisor(a, b):\n",
        "    '''\n",
        "    Verifica se o número 'a' é divisível por 'b'.\n",
        "\n",
        "    Argumentos\n",
        "    ----------\n",
        "    a (int): O número que será verificado.\n",
        "    b (int): O divisor que será usado na verificação.\n",
        "\n",
        "    Retorna\n",
        "    -------\n",
        "    bool: Retorna True se 'a' for divisível por 'b', caso contrário, retorna False.\n",
        "    '''\n",
        "\n",
        "    # Verifica se o resto da divisão de 'a' por 'b' é zero\n",
        "    if a % b == 0:\n",
        "        return True\n",
        "    else:\n",
        "        return False\n",
        "\n",
        "# Exemplos de chamadas\n",
        "print(divisor(10, 2))  # Deve retornar True, pois 10 é divisível por 2\n",
        "print(divisor(10, 3))  # Deve retornar False, pois 10 não é divisível por 3"
      ]
    },
    {
      "cell_type": "markdown",
      "metadata": {
        "id": "0Z8DBHn-9SdG"
      },
      "source": [
        "# Atividades intermediárias\n",
        "\n",
        "Nestas atividades, o objetivo permanece o mesmo das anteriores, porém com abordagens diferentes."
      ]
    },
    {
      "cell_type": "markdown",
      "metadata": {
        "id": "kPny6qny9azY"
      },
      "source": [
        "## Fatorial(while)\n",
        "\n",
        "Substituição do loop \"for\" pelo \"while\"."
      ]
    },
    {
      "cell_type": "code",
      "execution_count": null,
      "metadata": {
        "colab": {
          "base_uri": "https://localhost:8080/"
        },
        "id": "KE8w4f_x9a9i",
        "outputId": "6a962b01-310a-4fa7-d339-01807b183497"
      },
      "outputs": [],
      "source": [
        "def fatorial_while(n):\n",
        "    '''\n",
        "    Calcula o fatorial de um número inteiro não negativo utilizando loop while.\n",
        "\n",
        "    Argumentos\n",
        "    ----------\n",
        "    n (int): Um número inteiro não negativo (n >= 0) para o qual o fatorial será calculado.\n",
        "\n",
        "    Retorna\n",
        "    -------\n",
        "    int: O fatorial de n. Caso n seja 0 ou 1, retorna 1, pois o fatorial de 0 e 1 são definidos como 1.\n",
        "\n",
        "    Verifica condições\n",
        "    -------------------\n",
        "    Se n for um número negativo, a função irá levantar uma exceção `ValueError`.\n",
        "\n",
        "    '''\n",
        "\n",
        "    # Verificando se o valor de n é negativo, o que não é permitido\n",
        "    if n < 0:\n",
        "        raise ValueError(\"O número deve ser positivo.\")\n",
        "\n",
        "    fat = 1\n",
        "    i = 1\n",
        "\n",
        "    # A cada iteração do laço, multiplicamos o valor atual de fat por i,\n",
        "    # abrangendo os números de 1 até n para calcular o fatorial\n",
        "    while i <= n:\n",
        "        fat *= i\n",
        "        i += 1\n",
        "\n",
        "    return fat\n",
        "\n",
        "#Exemplos\n",
        "print(f'O fatorial de 3 é {fatorial_while(3)}')\n",
        "print('O fatorial de 1 é', fatorial_while(1))\n",
        "f10 = fatorial_while(10)\n",
        "print(f'O fatorial de 10 é {f10}')\n",
        "f0 = fatorial_while(0)\n",
        "print('O fatorial de 0 é', f0)"
      ]
    },
    {
      "cell_type": "markdown",
      "metadata": {
        "id": "oqBfwHAMAjhM"
      },
      "source": [
        "## Fatorial(função recursiva)\n",
        "\n",
        "A recursividade está no return, em vez de dentro da função."
      ]
    },
    {
      "cell_type": "code",
      "execution_count": null,
      "metadata": {
        "colab": {
          "base_uri": "https://localhost:8080/"
        },
        "id": "n6DupYxR_XPR",
        "outputId": "a9f08a57-47a3-406e-8852-e3c6e2d4efa3"
      },
      "outputs": [],
      "source": [
        "\n",
        "\n",
        "def fatorial_recursivo(n):\n",
        "    '''\n",
        "    Calcula o fatorial de um número inteiro não negativo.\n",
        "\n",
        "    O fatorial de um número inteiro n (denotado como n!) é o produto de todos os inteiros de 1 até n.\n",
        "    O fatorial de 0 é definido como 1 (0! = 1).\n",
        "\n",
        "    Argumentos\n",
        "    ----------\n",
        "    n (int): Um número inteiro não negativo (n >= 0) para o qual o fatorial será calculado.\n",
        "\n",
        "    Retorna\n",
        "    -------\n",
        "    int: O fatorial de n. Caso n seja 0 ou 1, retorna 1, pois o fatorial de 0 e 1 são definidos como 1.\n",
        "\n",
        "    Verifica condições\n",
        "    -------------------\n",
        "    Se n for um número negativo, a função irá levantar uma exceção `ValueError`.\n",
        "\n",
        "    '''\n",
        "\n",
        "    # Verificando se o valor de n é negativo, o que não é permitido\n",
        "    if n < 0:\n",
        "        raise ValueError(\"O número deve ser positivo.\")\n",
        "\n",
        "    # Exceções: fatorial de 0 ou 1 é 1\n",
        "    if n == 0 or n == 1:\n",
        "        return 1\n",
        "\n",
        "    # Caso recursivo: n! = n * (n-1)!\n",
        "    return n * fatorial_recursivo(n - 1)\n",
        "\n",
        "#Exemplos\n",
        "print(f'O fatorial de 3 é {fatorial_recursivo(3)}')\n",
        "print('O fatorial de 1 é', fatorial_recursivo(1))\n",
        "f10 = fatorial_recursivo(10)\n",
        "print(f'O fatorial de 10 é {f10}')\n",
        "f0 = fatorial_recursivo(0)\n",
        "print('O fatorial de 0 é', f0)"
      ]
    },
    {
      "cell_type": "markdown",
      "metadata": {
        "id": "76BDO6myA0om"
      },
      "source": [
        "## Sequência de Fibonacci"
      ]
    },
    {
      "cell_type": "code",
      "execution_count": null,
      "metadata": {
        "colab": {
          "base_uri": "https://localhost:8080/"
        },
        "id": "B1lrr1VxA44g",
        "outputId": "b583f3c2-1b9f-47cb-af68-b6d6813e9f72"
      },
      "outputs": [],
      "source": [
        "def fibonacci(n, lista_completa=True):\n",
        "    '''\n",
        "    Gera os n primeiros números da sequência de Fibonacci.\n",
        "\n",
        "    A sequência de Fibonacci é uma sequência numérica em que cada número é a soma dos dois anteriores,\n",
        "    começando por 1 e 1.\n",
        "\n",
        "    Argumentos\n",
        "    ----------\n",
        "    n (int): Número de termos da sequência de Fibonacci a serem gerados. Deve ser um número inteiro não negativo.\n",
        "             Se n for 0, a função retorna uma lista vazia.\n",
        "\n",
        "    lista_completa (bool): Se True, a função retorna a sequência completa com os n primeiros números.\n",
        "                           Se False, retorna apenas o último número da sequência.O valor padrão é True.\n",
        "\n",
        "    Retorna\n",
        "    -------\n",
        "    list ou int: Se `lista_completa` for True, retorna uma lista contendo os n primeiros números da sequência de Fibonacci.\n",
        "                 Se `lista_completa` for False, retorna apenas o n-ésimo número da sequência.\n",
        "\n",
        "    Verifica condições\n",
        "    -------------------\n",
        "    Se n for um número negativo, a função irá levantar uma exceção `ValueError`.\n",
        "    '''\n",
        "\n",
        "    # Verifica se o número de termos (n) é negativo\n",
        "    if n < 0:\n",
        "        raise ValueError(\"O número de termos (n) não pode ser negativo.\")\n",
        "\n",
        "    # Inicializa a lista para armazenar os números da sequência de Fibonacci\n",
        "    a, b = 0, 1\n",
        "\n",
        "    # Se lista_completa for True, cria uma lista com os n primeiros números\n",
        "    if lista_completa:\n",
        "        list_fib = [] # Lista para armazenar a sequência completa\n",
        "        for _ in range(n):\n",
        "            list_fib.append(a)  # Adiciona o número atual (a) na lista\n",
        "            a, b = b, a + b  # Atualiza os valores de a e b para os próximos números\n",
        "        return list_fib  # Retorna a lista completa\n",
        "    else:\n",
        "        # Se lista_completa for False, retorna apenas o n-ésimo número\n",
        "        for _ in range(n - 1):\n",
        "            a, b = b, a + b  # Atualiza os valores de a e b para o próximo número\n",
        "        return a  # Retorna o n-ésimo número\n",
        "\n",
        "\n",
        "# Exemplos\n",
        "print('Sequência dos 5 primeiros números de Fibonacci (lista completa):', fibonacci(5))\n",
        "print('Último número da sequência de Fibonacci para n=5:', fibonacci(5, lista_completa=False))\n",
        "print('Sequência dos 5 primeiros números de Fibonacci (usando True):', fibonacci(5, lista_completa=True))\n",
        "\n",
        "f = fibonacci(20)\n",
        "print('\\nSequência dos 20 primeiros números de Fibonacci (lista completa):', f)\n",
        "\n",
        "numero = 30\n",
        "print(f'\\nÚltimo número da sequência de Fibonacci para n={numero}:', fibonacci(numero, lista_completa=False))\n",
        "print(f'Sequência dos {numero} primeiros números de Fibonacci (usando True):', fibonacci(numero, lista_completa=True))\n"
      ]
    },
    {
      "cell_type": "markdown",
      "metadata": {
        "id": "PCwE-oMiC9iN"
      },
      "source": [
        "## Fórmula de Bhaskara\n",
        "\n",
        "Corrige o cálculo de raízes complexas e permite o cálculo de $a = 0$.\n",
        "\n",
        "A letra $j$ foi utilizada para representar a parte imaginária, em vez do convencional $i$."
      ]
    },
    {
      "cell_type": "code",
      "execution_count": null,
      "metadata": {
        "colab": {
          "base_uri": "https://localhost:8080/"
        },
        "id": "XOWoARgKa0ES",
        "outputId": "1943e90a-8e75-4bf0-bff6-eaa82dc488ae"
      },
      "outputs": [],
      "source": [
        "def bhaskara(a, b, c):\n",
        "    '''\n",
        "    Calcula as raízes de uma equação quadrática do tipo ax² + bx + c = 0.\n",
        "\n",
        "    A função calcula as raízes reais de uma equação quadrática. Se o coeficiente 'a' for zero,\n",
        "    a equação se torna linear e a função retorna duas raízes iguais. Se o discriminante (delta) for negativo,\n",
        "    a função retorna duas raízes com parte real e imaginária, resultando em raízes complexas\n",
        "\n",
        "    Argumentos:\n",
        "    a (float): Coeficiente da variável x².\n",
        "    b (float): Coeficiente da variável x.\n",
        "    c (float): Termo constante.\n",
        "\n",
        "    Retorna:\n",
        "    tuple: Uma tupla com as duas raízes, que podem ser reais ou complexas:\n",
        "           - Se delta >= 0, retorna duas raízes reais.\n",
        "           - Se delta < 0, retorna as raízes complexas.\n",
        "           - Se a == 0, retorna duas raízes iguais.\n",
        "\n",
        "    Verifica condições\n",
        "    -------------------\n",
        "    Se (a) for zero e a equação for linear, mas (b) também for zero (caso indeterminado), a função irá levantar uma exceção `ValueError`.\n",
        "\n",
        "    '''\n",
        "\n",
        "    # Verifica se 'a' é zero\n",
        "    if a == 0:\n",
        "        # Se a == 0, a equação não é quadrática, mas é uma equação linear.\n",
        "        # Nesse caso, retorna uma raiz única, x = -c/b.\n",
        "        if b == 0:\n",
        "            raise ValueError(\"Não é possível resolver para a equação linear 0x + c = 0 quando c não é zero.\")\n",
        "        x = -c / b\n",
        "        return (x, x)  # Duas raízes iguais\n",
        "\n",
        "    # Cálculo do delta\n",
        "    delta = b**2 - 4*a*c\n",
        "\n",
        "    # Se delta for negativo, as raízes são complexas\n",
        "    if delta < 0:\n",
        "        real_part = -b / (2*a)\n",
        "        imaginary_part = (-delta)**0.5 / (2*a)\n",
        "        # Retorna as raízes complexas (parte real, parte imaginária)\n",
        "        return (real_part + imaginary_part * 1j, real_part - imaginary_part * 1j)\n",
        "\n",
        "    # Se delta for não-negativo, calcula as raízes reais\n",
        "    x1 = (-b + (delta**0.5)) / (2*a)\n",
        "    x2 = (-b - (delta**0.5)) / (2*a)\n",
        "    x  = (x1, x2)\n",
        "\n",
        "    # Retorna as duas raízes reais\n",
        "    return x\n",
        "\n",
        "# Exemplos de teste\n",
        "\n",
        "# Caso com raízes complexas\n",
        "x1, x2 = bhaskara(1, 2, 3)\n",
        "print('Raízes complexas:')\n",
        "print('Primeira raiz:', x1)\n",
        "print('Segunda raiz:', x2)\n",
        "\n",
        "# Caso com coeficiente a = 0 (equação linear)\n",
        "x1, x2 = bhaskara(0, 2, -6)\n",
        "print('\\nEquação linear:')\n",
        "print('Raízes:', x1, x2)\n",
        "\n",
        "# Caso com raízes reais\n",
        "x1, x2 = bhaskara(1, -5, 6)\n",
        "print('\\nRaízes reais:')\n",
        "print('Primeira raiz:', x1)\n",
        "print('Segunda raiz:', x2)\n"
      ]
    },
    {
      "cell_type": "markdown",
      "metadata": {
        "id": "x7pqFQwMEBvZ"
      },
      "source": [
        "# Atividades avançadas"
      ]
    },
    {
      "cell_type": "markdown",
      "metadata": {
        "id": "KqkSzoqGEK58"
      },
      "source": [
        "## Fatorial (assertion)"
      ]
    },
    {
      "cell_type": "code",
      "execution_count": null,
      "metadata": {
        "colab": {
          "base_uri": "https://localhost:8080/"
        },
        "id": "x0iMaAj0Ok8b",
        "outputId": "99db650b-5a0c-42bf-b62f-b3bdf8c46bae"
      },
      "outputs": [],
      "source": [
        "def fatorial_while(n):\n",
        "    '''\n",
        "    Calcula o fatorial de um número inteiro não negativo utilizando loop while.\n",
        "\n",
        "    Argumentos\n",
        "    ----------\n",
        "    n (int): Um número inteiro não negativo (n >= 0) para o qual o fatorial será calculado.\n",
        "\n",
        "    Retorna\n",
        "    -------\n",
        "    int: O fatorial de n. Caso n seja 0 ou 1, retorna 1, pois o fatorial de 0 e 1 são definidos como 1.\n",
        "\n",
        "    Verifica condições\n",
        "    -------------------\n",
        "    ValueError: Se n for um número negativo, pois o fatorial não é definido para números negativos.\n",
        "    AssertionError: Se n não for um número inteiro.\n",
        "    '''\n",
        "\n",
        "    # Verificação de tipo para garantir que n seja um número inteiro\n",
        "    assert isinstance(n, int), \"O valor de n deve ser um inteiro.\"\n",
        "\n",
        "    # Verifica se o número fornecido é negativo, pois o fatorial não é definido para números negativos\n",
        "    if n < 0:\n",
        "        raise ValueError(\"O número deve ser positivo ou zero.\")\n",
        "\n",
        "    fat = 1  # Inicializa o fatorial com 1\n",
        "    i = 1    # Contador para realizar a multiplicação de 1 até n\n",
        "\n",
        "    # Loop while para calcular o fatorial, multiplicando os números de 1 até n\n",
        "    while i <= n:\n",
        "        fat *= i  # Multiplica o valor atual de fat por i\n",
        "        i += 1    # Incrementa i para o próximo número da sequência\n",
        "\n",
        "    return fat\n",
        "\n",
        "# Exemplos\n",
        "print(f'O fatorial de 3 é {fatorial_while(3)}')\n",
        "print('O fatorial de 1 é', fatorial_while(1))\n",
        "f10 = fatorial_while(10)\n",
        "print(f'O fatorial de 10 é {f10}')\n",
        "f0 = fatorial_while(0)\n",
        "print('O fatorial de 0 é', f0)"
      ]
    },
    {
      "cell_type": "markdown",
      "metadata": {
        "id": "kGJ4C5bueoQ5"
      },
      "source": [
        "## Sequência de Fibonacci(assertion)"
      ]
    },
    {
      "cell_type": "code",
      "execution_count": null,
      "metadata": {
        "colab": {
          "base_uri": "https://localhost:8080/"
        },
        "id": "iejLAOwqQh2m",
        "outputId": "210095c2-355c-4735-dd68-536abce9c408"
      },
      "outputs": [],
      "source": [
        "def fibonacci(n, lista_completa=True):\n",
        "    \"\"\"\n",
        "    Gera os n primeiros números da sequência de Fibonacci.\n",
        "\n",
        "    A sequência de Fibonacci é uma sequência numérica em que cada número é a soma dos dois anteriores,\n",
        "    começando por 0 e 1.\n",
        "\n",
        "    Argumentos\n",
        "    ----------\n",
        "    n (int): Número de termos da sequência de Fibonacci a serem gerados. Deve ser um número inteiro não negativo.\n",
        "             Se n for 0, a função retorna uma lista vazia.\n",
        "\n",
        "    lista_completa (bool): Se True, a função retorna a sequência completa com os n primeiros números.\n",
        "                           Se False, retorna apenas o último número da sequência.O valor padrão é True.\n",
        "\n",
        "    Retorna\n",
        "    -------\n",
        "    list ou int: Se `lista_completa` for True, retorna uma lista contendo os n primeiros números da sequência de Fibonacci.\n",
        "                 Se `lista_completa` for False, retorna apenas o n-ésimo número da sequência.\n",
        "\n",
        "    Levanta:\n",
        "    ValueError: Se o valor de n for negativo.\n",
        "    AssertionError: Se n não for um inteiro ou se lista_completa não for um booleano.\n",
        "\n",
        "    \"\"\"\n",
        "\n",
        "    # Verificação dos tipos de entrada para garantir a validade dos parâmetros\n",
        "    assert isinstance(n, int), \"O valor de n deve ser um inteiro.\"\n",
        "    assert isinstance(lista_completa, bool), \"O valor de lista_completa deve ser um booleano.\"\n",
        "\n",
        "    # Levanta erro caso o número de termos seja negativo\n",
        "    if n < 0:\n",
        "        raise ValueError(\"O número de termos (n) não pode ser negativo.\")\n",
        "\n",
        "    a, b = 0, 1  # Inicialização dos dois primeiros números da sequência de Fibonacci\n",
        "\n",
        "    # Se a lista completa for solicitada, retornamos todos os números da sequência\n",
        "    if lista_completa:\n",
        "        list_fib = []  # Lista para armazenar a sequência completa\n",
        "        for _ in range(n):\n",
        "            list_fib.append(a)  # Adiciona o número atual à lista\n",
        "            a, b = b, a + b  # Atualiza os valores de a e b para o próximo número\n",
        "        return list_fib  # Retorna a sequência completa\n",
        "\n",
        "    # Se apenas o último número for solicitado, calculamos e retornamos o n-ésimo número\n",
        "    else:\n",
        "        for _ in range(n - 1):\n",
        "            a, b = b, a + b  # Atualiza a e b, mas não adiciona à lista\n",
        "        return a  # Retorna o último número da sequência\n",
        "\n",
        "# Exemplos\n",
        "print('Sequência dos 5 primeiros números de Fibonacci (lista completa):', fibonacci(5))\n",
        "print('Último número da sequência de Fibonacci para n=5:', fibonacci(5, lista_completa=False))\n",
        "print('Sequência dos 5 primeiros números de Fibonacci (usando True):', fibonacci(5, lista_completa=True))\n",
        "\n",
        "f = fibonacci(20)\n",
        "print('\\nSequência dos 20 primeiros números de Fibonacci (lista completa):', f)\n",
        "\n",
        "numero = 30\n",
        "print(f'\\nÚltimo número da sequência de Fibonacci para n={numero}:', fibonacci(numero, lista_completa=False))\n",
        "print(f'Sequência dos {numero} primeiros números de Fibonacci (usando True):', fibonacci(numero, lista_completa=True))\n"
      ]
    },
    {
      "cell_type": "markdown",
      "metadata": {
        "id": "tM3tGo10e00i"
      },
      "source": [
        "## Fórmula de Bhaskara  (assertion)"
      ]
    },
    {
      "cell_type": "code",
      "execution_count": null,
      "metadata": {
        "colab": {
          "base_uri": "https://localhost:8080/"
        },
        "id": "-7xWFZrzdlLY",
        "outputId": "cbe9715d-82a9-4ca0-d157-fd49cd1b52c6"
      },
      "outputs": [],
      "source": [
        "def bhaskara(a, b, c):\n",
        "    '''\n",
        "    Calcula as raízes de uma equação quadrática do tipo ax² + bx + c = 0.\n",
        "\n",
        "    A função calcula as raízes reais de uma equação quadrática. Caso o coeficiente 'a' seja zero, a função\n",
        "    gera um erro, pois a equação deixa de ser quadrática. Caso o delta seja negativo, a função gera um erro,\n",
        "    pois não existem raízes reais.\n",
        "\n",
        "    Argumentos:\n",
        "    a (float): Coeficiente da variável x².\n",
        "    b (float): Coeficiente da variável x.\n",
        "    c (float): Termo constante.\n",
        "\n",
        "    Retorna:\n",
        "    tuple: Uma tupla com as duas raízes reais:\n",
        "           - Se delta >= 0, retorna duas raízes reais.\n",
        "           - Se a == 0, levanta uma exceção indicando que a equação não é quadrática.\n",
        "           - Se delta < 0, levanta uma exceção indicando que não existem raízes reais.\n",
        "\n",
        "    Verifica condições\n",
        "    -------------------\n",
        "    ValueError: Se o valor de n for negativo.\n",
        "    AssertionError: Se 'a' for igual a zero, pois a equação deixa de ser quadrática.\n",
        "    '''\n",
        "\n",
        "    # Verifica se 'a' é zero\n",
        "    assert a != 0, \"\\nO coeficiente 'a' não pode ser zero!\"\n",
        "\n",
        "    # Cálculo do delta\n",
        "    delta = b**2 - 4*a*c\n",
        "\n",
        "    # Se delta for negativo, levanta uma exceção\n",
        "    if delta < 0:\n",
        "        raise ValueError(\"\\nDelta negativo. Não existem raízes reais.\")\n",
        "\n",
        "    # Se delta for não-negativo, calcula as raízes reais\n",
        "    x1 = (-b + (delta**0.5)) / (2 * a)\n",
        "    x2 = (-b - (delta**0.5)) / (2 * a)\n",
        "    x = (x1, x2)\n",
        "\n",
        "    # Retorna as duas raízes reais\n",
        "    return x\n",
        "\n",
        "# Exemplos de teste\n",
        "\n",
        "# Caso com raízes reais\n",
        "try:\n",
        "    x1, x2 = bhaskara(1, -5, 6)\n",
        "    print('Raízes reais:')\n",
        "    print('Primeira raiz:', x1)\n",
        "    print('Segunda raiz:', x2)\n",
        "except ValueError as e:\n",
        "    print(e)\n",
        "\n",
        "# Caso com delta negativo (raízes complexas)\n",
        "try:\n",
        "    x1, x2 = bhaskara(1, 2, 3)\n",
        "except ValueError as e:\n",
        "    print(e)\n",
        "\n",
        "# Caso com coeficiente a = 0 (equação linear)\n",
        "try:\n",
        "    x1, x2 = bhaskara(0, 2, -6)\n",
        "except AssertionError as e:\n",
        "    print(e)\n"
      ]
    },
    {
      "cell_type": "markdown",
      "metadata": {
        "id": "dxaEvnibfEbQ"
      },
      "source": [
        "## Divisores (assertion)"
      ]
    },
    {
      "cell_type": "code",
      "execution_count": null,
      "metadata": {
        "colab": {
          "base_uri": "https://localhost:8080/"
        },
        "id": "FA_IYl2B6_Gk",
        "outputId": "961f93ec-1992-4809-9600-22f51f39e9c6"
      },
      "outputs": [],
      "source": [
        "def divisor(a, b):\n",
        "    '''\n",
        "    Verifica se o número 'a' é divisível por 'b'.\n",
        "\n",
        "    Argumentos\n",
        "    ----------\n",
        "    a (int): O número que será verificado.\n",
        "    b (int): O divisor que será usado na verificação.\n",
        "\n",
        "    Retorna\n",
        "    -------\n",
        "    bool: Retorna True se 'a' for divisível por 'b', caso contrário, retorna False.\n",
        "\n",
        "    Verifica condições\n",
        "    -------------------\n",
        "    AssertionError: Levanta um erro se 'b' for zero.\n",
        "    ZeroDivisionError: Captura a exceção de divisão por zero e retorna None.\n",
        "    '''\n",
        "\n",
        "    # Verificação usando assert para garantir que b não seja zero\n",
        "    assert b != 0, \"Erro: O divisor não pode ser zero!\"\n",
        "\n",
        "    try:\n",
        "        return (a % b == 0)\n",
        "    except ZeroDivisionError:\n",
        "        # Captura o erro de divisão por zero, imprime a mensagem e retorna None\n",
        "        print(\"Erro: Divisão por zero não permitida.\")\n",
        "        return None\n",
        "# Exemplos de chamadas\n",
        "\n",
        "# Teste 1: Divisão válida\n",
        "print(divisor(10, 2))  # Deve retornar True, pois 10 é divisível por 2\n",
        "\n",
        "# Teste 2: Divisão não válida\n",
        "print(divisor(10, 3))  # Deve retornar False, pois 10 não é divisível por 3\n",
        "\n",
        "# Teste 3: Divisor igual a zero (erro com assertion)\n",
        "try:\n",
        "    print(divisor(10, 0))  # Vai levantar um erro de asserção devido a b == 0\n",
        "except AssertionError as e:\n",
        "    print(e)"
      ]
    }
  ],
  "metadata": {
    "colab": {
      "provenance": []
    },
    "kernelspec": {
      "display_name": "Python 3",
      "name": "python3"
    },
    "language_info": {
      "name": "python"
    }
  },
  "nbformat": 4,
  "nbformat_minor": 0
}
